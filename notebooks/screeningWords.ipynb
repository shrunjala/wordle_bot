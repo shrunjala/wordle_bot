{
 "cells": [
  {
   "cell_type": "markdown",
   "metadata": {},
   "source": [
    "# Wordle Project \n",
    "Finding 3 optimum words to maximize the information gain to make the 4th guess"
   ]
  },
  {
   "cell_type": "markdown",
   "metadata": {},
   "source": [
    "## Cost Function\n",
    "$f(word) = (\\Sigma^{i = len(word)}_{i=0} P(word[i])) + (P(word[0]) + P(word[len(word)])$"
   ]
  },
  {
   "cell_type": "markdown",
   "metadata": {},
   "source": [
    "To get the most frequent occurring letters in the top guess was my idea\n",
    " behind using this cost function. The first half of the cost function is just the sum of all\n",
    " probabilities of letters in that word. This is the objective function. I wanted to maximize the\n",
    " probability of each letter so I get the most optimum guesses. The second half of this function is\n",
    " the regularization that I used to break the ties with. That is the probability of this starting letter\n",
    " and this ending letter of the word. This added an extra layer to break the ties."
   ]
  },
  {
   "cell_type": "markdown",
   "metadata": {},
   "source": [
    "## Implementation\n",
    "For the implementation I started by loading the data and counting the\n",
    " occurrences of each letter to then get the probability of each letter. Then I removed all the words\n",
    " with double lettered occurrences leaving us words with only unique letters. Then I proceeded to\n",
    " calculate the cost of each word with the function stated above considering the probability of the\n",
    " letters as well as the probability of the starting and ending letters. Then I picked the first choice\n",
    " as the one with the highest cost. I then moved on to removing that word from the list of next\n",
    " possible words and proceeded to calculate the next best choice. For this I first removed all the\n",
    " words containing the letters of the first choice and selected the one with the maximum cost after\n",
    " winnowing out a few words. By the third try I was left with only a few words to choose from and I\n",
    " repeated the process again to find the third best word."
   ]
  },
  {
   "cell_type": "markdown",
   "metadata": {},
   "source": [
    "## Python Custom Methods\n"
   ]
  },
  {
   "cell_type": "code",
   "execution_count": 2,
   "metadata": {},
   "outputs": [],
   "source": [
    "# imports\n",
    "import argparse\n",
    "import math\n",
    "import pandas as pd\n",
    "import matplotlib.pyplot as plt\n",
    "import numpy as np\n",
    "import warnings\n",
    "from collections import Counter"
   ]
  },
  {
   "cell_type": "code",
   "execution_count": 3,
   "metadata": {},
   "outputs": [],
   "source": [
    "def read_file(file_loc):\n",
    "    \"\"\"\n",
    "    reads the file in pandas and returns a dataframe.\n",
    "\n",
    "    :param file_loc: the location of the file in the system\n",
    "    :return: pandas dataframe\n",
    "    \"\"\"\n",
    "    words = list()\n",
    "    with open(file_loc) as f:\n",
    "        lines = f.readlines()\n",
    "        for line in lines:\n",
    "            words.append(line[:-1])\n",
    "\n",
    "    return words"
   ]
  },
  {
   "cell_type": "code",
   "execution_count": 4,
   "metadata": {},
   "outputs": [],
   "source": [
    "def parse_args():\n",
    "    \"\"\"\n",
    "    parses the arguments.\n",
    "    :return: location of the file\n",
    "    \"\"\"\n",
    "\n",
    "    parser = argparse.ArgumentParser()\n",
    "    parser.add_argument(\"-file\")\n",
    "    args = parser.parse_args()  # parse arguments\n",
    "    return args  # return file location given"
   ]
  },
  {
   "cell_type": "code",
   "execution_count": 5,
   "metadata": {},
   "outputs": [],
   "source": [
    "\n",
    "def frequency_of_letters(words):\n",
    "    \"\"\"\n",
    "    counts the number of times a letter occurs in this list\n",
    "    :param words: list of words\n",
    "    :return: dictionary with key as the letter and value as the count\n",
    "    \"\"\"\n",
    "    count = {}\n",
    "    for word in words:\n",
    "        for letter in word:\n",
    "            if letter not in count:\n",
    "                count[letter] = 1\n",
    "            else:\n",
    "                count[letter] += 1\n",
    "    return count"
   ]
  },
  {
   "cell_type": "code",
   "execution_count": 6,
   "metadata": {},
   "outputs": [],
   "source": [
    "def cost_of_letters(count, total_words):\n",
    "    \"\"\"\n",
    "    calculates the cost of each letter (probability)\n",
    "    :param count: dictionary of count of each occurance of the letter\n",
    "    :param total_words: total words in the list\n",
    "    :return: dictionary as the cost or the probability as value and letter as key\n",
    "    \"\"\"\n",
    "    cost = {}\n",
    "    for letter in count:\n",
    "        cost_of_letter = int(count[letter])/total_words\n",
    "        cost[letter] = cost_of_letter\n",
    "    return cost"
   ]
  },
  {
   "cell_type": "code",
   "execution_count": 7,
   "metadata": {},
   "outputs": [],
   "source": [
    "\n",
    "def isUniqueChars(string):\n",
    "    \"\"\"\n",
    "    checks if the string is made of unique characters\n",
    "    :param string: string to check\n",
    "    :return: boolean True if unique\n",
    "    \"\"\"\n",
    "    # Counting frequency\n",
    "    freq = Counter(string)\n",
    "\n",
    "    if (len(freq) == len(string)):\n",
    "        return True\n",
    "    else:\n",
    "        return False"
   ]
  },
  {
   "cell_type": "code",
   "execution_count": 8,
   "metadata": {},
   "outputs": [],
   "source": [
    "def words_with_unique_letters(words):\n",
    "    \"\"\"\n",
    "    gets all the words with different letters\n",
    "    :param words: list of words\n",
    "    :return: words with unqiue letters\n",
    "    \"\"\"\n",
    "    unique_words = []\n",
    "    for word in words:\n",
    "        if isUniqueChars(word) == True:\n",
    "            unique_words.append(word)\n",
    "    return unique_words"
   ]
  },
  {
   "cell_type": "code",
   "execution_count": 9,
   "metadata": {},
   "outputs": [],
   "source": [
    "def cost_of_words(cost_letters, words):\n",
    "    \"\"\"\n",
    "    calculates the cost of each word by adding cost of each letter\n",
    "    :param cost_letters: cost of each letter\n",
    "    :param words: list of words\n",
    "    :return: cost of words as dict\n",
    "    \"\"\"\n",
    "    cost_words = {}\n",
    "    for word in words:\n",
    "        cost = 0\n",
    "        for letter in word:\n",
    "            cost += cost_letters[letter]\n",
    "        cost_words[word] = cost\n",
    "    return cost_words"
   ]
  },
  {
   "cell_type": "code",
   "execution_count": 10,
   "metadata": {},
   "outputs": [],
   "source": [
    "def starting_frequency(words):\n",
    "    \"\"\"\n",
    "    counts the number of times a letter has occured at the start of a word\n",
    "    :param words: list of words\n",
    "    :return: letter as key and count that it has occured at the start as value\n",
    "    \"\"\"\n",
    "    count = {}\n",
    "    for word in words:\n",
    "        letter = word[0]\n",
    "        if letter not in count:\n",
    "            count[letter] = 1\n",
    "        else:\n",
    "            count[letter] += 1\n",
    "    return count"
   ]
  },
  {
   "cell_type": "code",
   "execution_count": 11,
   "metadata": {},
   "outputs": [],
   "source": [
    "\n",
    "def ending_frequency(words):\n",
    "    \"\"\"\n",
    "    counts the number of times a letter has occured at the end of a word\n",
    "    :param words: list of words\n",
    "    :return: letter as key and count that it has occured at the end as value\n",
    "    \"\"\"\n",
    "    count = {}\n",
    "    for word in words:\n",
    "        letter = word[-1]\n",
    "        if letter not in count:\n",
    "            count[letter] = 1\n",
    "        else:\n",
    "            count[letter] += 1\n",
    "    return count"
   ]
  },
  {
   "cell_type": "code",
   "execution_count": 12,
   "metadata": {},
   "outputs": [],
   "source": [
    "def break_ties(cost_words, starting, ending):\n",
    "    \"\"\"\n",
    "    cosiders the starting and ending letter frequency in the cost to break ties\n",
    "    :param cost_words: cost of words based on probability\n",
    "    :param starting: dictionary of starting letter probabilities\n",
    "    :param ending: dictionary of ending letter probabilities\n",
    "    :return: updated costs with starting and ending letter considered\n",
    "    \"\"\"\n",
    "    costs = {}\n",
    "    for word in cost_words:\n",
    "        cost = cost_words[word]\n",
    "        cost += starting[word[0]]/26\n",
    "        cost += ending[word[-1]]/26\n",
    "        costs[word] = cost\n",
    "    return costs"
   ]
  },
  {
   "cell_type": "code",
   "execution_count": 13,
   "metadata": {},
   "outputs": [],
   "source": [
    "def process_next_choice(words, unique_words, cost):\n",
    "    \"\"\"\n",
    "    takes the words guessed so far, list of possible words and costs of each letter to give the next best word.\n",
    "    :param words: words guessed so far\n",
    "    :param unique_words: list of possible words\n",
    "    :param cost: cost of each letter\n",
    "    :return: next best word\n",
    "    \"\"\"\n",
    "    letters = []\n",
    "    for word in words:\n",
    "        l = list(word)\n",
    "        letters += l\n",
    "    next_options = list(unique_words)\n",
    "    for word in unique_words:\n",
    "        for i in letters:\n",
    "            if i in word:\n",
    "                if word in next_options:\n",
    "                    next_options.remove(word)\n",
    "    costs = cost_of_words(cost, next_options)\n",
    "    costs = sort_dict(costs)\n",
    "    return list(costs.keys())[0]"
   ]
  },
  {
   "cell_type": "code",
   "execution_count": 14,
   "metadata": {},
   "outputs": [],
   "source": [
    "def sort_dict(d):\n",
    "    \"\"\"\n",
    "    sort the dictionary by values in decending to maximize cost\n",
    "    :param d: dictionary to sort\n",
    "    :return:\n",
    "    \"\"\"\n",
    "    sorted_dict = dict(sorted(d.items(), key=lambda x: x[1], reverse=True))\n",
    "    return sorted_dict"
   ]
  },
  {
   "cell_type": "markdown",
   "metadata": {},
   "source": [
    "## Getting top 3 words"
   ]
  },
  {
   "cell_type": "code",
   "execution_count": 20,
   "metadata": {},
   "outputs": [
    {
     "ename": "PermissionError",
     "evalue": "[Errno 13] Permission denied: 'C:\\\\Users\\\\shrun\\\\VSProjects\\\\Wordle Bot\\\\wordle_bot\\\\data'",
     "output_type": "error",
     "traceback": [
      "\u001b[1;31m---------------------------------------------------------------------------\u001b[0m",
      "\u001b[1;31mPermissionError\u001b[0m                           Traceback (most recent call last)",
      "Cell \u001b[1;32mIn[20], line 1\u001b[0m\n\u001b[1;32m----> 1\u001b[0m words \u001b[38;5;241m=\u001b[39m \u001b[43mread_file\u001b[49m\u001b[43m(\u001b[49m\u001b[38;5;124;43mr\u001b[39;49m\u001b[38;5;124;43m'\u001b[39;49m\u001b[38;5;124;43mC:\u001b[39;49m\u001b[38;5;124;43m\\\u001b[39;49m\u001b[38;5;124;43mUsers\u001b[39;49m\u001b[38;5;124;43m\\\u001b[39;49m\u001b[38;5;124;43mshrun\u001b[39;49m\u001b[38;5;124;43m\\\u001b[39;49m\u001b[38;5;124;43mVSProjects\u001b[39;49m\u001b[38;5;124;43m\\\u001b[39;49m\u001b[38;5;124;43mWordle Bot\u001b[39;49m\u001b[38;5;124;43m\\\u001b[39;49m\u001b[38;5;124;43mwordle_bot\u001b[39;49m\u001b[38;5;124;43m\\\u001b[39;49m\u001b[38;5;124;43mdata\u001b[39;49m\u001b[38;5;124;43m'\u001b[39;49m\u001b[43m)\u001b[49m\n",
      "Cell \u001b[1;32mIn[3], line 9\u001b[0m, in \u001b[0;36mread_file\u001b[1;34m(file_loc)\u001b[0m\n\u001b[0;32m      2\u001b[0m \u001b[38;5;250m\u001b[39m\u001b[38;5;124;03m\"\"\"\u001b[39;00m\n\u001b[0;32m      3\u001b[0m \u001b[38;5;124;03mreads the file in pandas and returns a dataframe.\u001b[39;00m\n\u001b[0;32m      4\u001b[0m \n\u001b[0;32m      5\u001b[0m \u001b[38;5;124;03m:param file_loc: the location of the file in the system\u001b[39;00m\n\u001b[0;32m      6\u001b[0m \u001b[38;5;124;03m:return: pandas dataframe\u001b[39;00m\n\u001b[0;32m      7\u001b[0m \u001b[38;5;124;03m\"\"\"\u001b[39;00m\n\u001b[0;32m      8\u001b[0m words \u001b[38;5;241m=\u001b[39m \u001b[38;5;28mlist\u001b[39m()\n\u001b[1;32m----> 9\u001b[0m \u001b[38;5;28;01mwith\u001b[39;00m \u001b[38;5;28;43mopen\u001b[39;49m\u001b[43m(\u001b[49m\u001b[43mfile_loc\u001b[49m\u001b[43m)\u001b[49m \u001b[38;5;28;01mas\u001b[39;00m f:\n\u001b[0;32m     10\u001b[0m     lines \u001b[38;5;241m=\u001b[39m f\u001b[38;5;241m.\u001b[39mreadlines()\n\u001b[0;32m     11\u001b[0m     \u001b[38;5;28;01mfor\u001b[39;00m line \u001b[38;5;129;01min\u001b[39;00m lines:\n",
      "File \u001b[1;32mc:\\Users\\shrun\\AppData\\Local\\Programs\\Python\\lib\\site-packages\\IPython\\core\\interactiveshell.py:284\u001b[0m, in \u001b[0;36m_modified_open\u001b[1;34m(file, *args, **kwargs)\u001b[0m\n\u001b[0;32m    277\u001b[0m \u001b[38;5;28;01mif\u001b[39;00m file \u001b[38;5;129;01min\u001b[39;00m {\u001b[38;5;241m0\u001b[39m, \u001b[38;5;241m1\u001b[39m, \u001b[38;5;241m2\u001b[39m}:\n\u001b[0;32m    278\u001b[0m     \u001b[38;5;28;01mraise\u001b[39;00m \u001b[38;5;167;01mValueError\u001b[39;00m(\n\u001b[0;32m    279\u001b[0m         \u001b[38;5;124mf\u001b[39m\u001b[38;5;124m\"\u001b[39m\u001b[38;5;124mIPython won\u001b[39m\u001b[38;5;124m'\u001b[39m\u001b[38;5;124mt let you open fd=\u001b[39m\u001b[38;5;132;01m{\u001b[39;00mfile\u001b[38;5;132;01m}\u001b[39;00m\u001b[38;5;124m by default \u001b[39m\u001b[38;5;124m\"\u001b[39m\n\u001b[0;32m    280\u001b[0m         \u001b[38;5;124m\"\u001b[39m\u001b[38;5;124mas it is likely to crash IPython. If you know what you are doing, \u001b[39m\u001b[38;5;124m\"\u001b[39m\n\u001b[0;32m    281\u001b[0m         \u001b[38;5;124m\"\u001b[39m\u001b[38;5;124myou can use builtins\u001b[39m\u001b[38;5;124m'\u001b[39m\u001b[38;5;124m open.\u001b[39m\u001b[38;5;124m\"\u001b[39m\n\u001b[0;32m    282\u001b[0m     )\n\u001b[1;32m--> 284\u001b[0m \u001b[38;5;28;01mreturn\u001b[39;00m io_open(file, \u001b[38;5;241m*\u001b[39margs, \u001b[38;5;241m*\u001b[39m\u001b[38;5;241m*\u001b[39mkwargs)\n",
      "\u001b[1;31mPermissionError\u001b[0m: [Errno 13] Permission denied: 'C:\\\\Users\\\\shrun\\\\VSProjects\\\\Wordle Bot\\\\wordle_bot\\\\data'"
     ]
    }
   ],
   "source": [
    "words = read_file(r'C:\\Users\\shrun\\VSProjects\\Wordle Bot\\wordle_bot\\data')"
   ]
  },
  {
   "cell_type": "code",
   "execution_count": null,
   "metadata": {},
   "outputs": [],
   "source": []
  }
 ],
 "metadata": {
  "kernelspec": {
   "display_name": "Python39",
   "language": "python",
   "name": "python3"
  },
  "language_info": {
   "codemirror_mode": {
    "name": "ipython",
    "version": 3
   },
   "file_extension": ".py",
   "mimetype": "text/x-python",
   "name": "python",
   "nbconvert_exporter": "python",
   "pygments_lexer": "ipython3",
   "version": "3.9.7"
  }
 },
 "nbformat": 4,
 "nbformat_minor": 2
}
